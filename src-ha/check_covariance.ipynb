{
 "cells": [
  {
   "cell_type": "markdown",
   "id": "de53cd8a",
   "metadata": {},
   "source": [
    "# Imports"
   ]
  },
  {
   "cell_type": "code",
   "execution_count": 1,
   "id": "fb1ed6f1",
   "metadata": {
    "scrolled": true
   },
   "outputs": [
    {
     "data": {
      "text/plain": [
       "'1.8.1'"
      ]
     },
     "execution_count": 1,
     "metadata": {},
     "output_type": "execute_result"
    }
   ],
   "source": [
    "import os\n",
    "os.environ[\"CUDA_VISIBLE_DEVICES\"] = \"3\"  # either 3 or 6\n",
    "\n",
    "from data_generators import *\n",
    "import utils\n",
    "import torch\n",
    "from torch.utils.data import DataLoader\n",
    "import matplotlib.pyplot as plt\n",
    "\n",
    "torch.__version__"
   ]
  },
  {
   "cell_type": "code",
   "execution_count": 1,
   "id": "ed3a88d7",
   "metadata": {},
   "outputs": [
    {
     "ename": "NameError",
     "evalue": "name 'TrainGenerator' is not defined",
     "output_type": "error",
     "traceback": [
      "\u001b[0;31m---------------------------------------------------------------------------\u001b[0m",
      "\u001b[0;31mNameError\u001b[0m                                 Traceback (most recent call last)",
      "\u001b[0;32m/tmp/ipykernel_19163/1826628575.py\u001b[0m in \u001b[0;36m<module>\u001b[0;34m\u001b[0m\n\u001b[1;32m      3\u001b[0m \u001b[0;31m# we'll make the training data loader in the training loop,\u001b[0m\u001b[0;34m\u001b[0m\u001b[0;34m\u001b[0m\u001b[0;34m\u001b[0m\u001b[0m\n\u001b[1;32m      4\u001b[0m \u001b[0;31m# since we need to update some of the examples used each epoch\u001b[0m\u001b[0;34m\u001b[0m\u001b[0;34m\u001b[0m\u001b[0;34m\u001b[0m\u001b[0m\n\u001b[0;32m----> 5\u001b[0;31m \u001b[0mtrain_gen\u001b[0m \u001b[0;34m=\u001b[0m \u001b[0mTrainGenerator\u001b[0m\u001b[0;34m(\u001b[0m\u001b[0;34m\"mouse\"\u001b[0m\u001b[0;34m,\u001b[0m \u001b[0;34m\"CTCF\"\u001b[0m\u001b[0;34m)\u001b[0m\u001b[0;34m\u001b[0m\u001b[0;34m\u001b[0m\u001b[0m\n\u001b[0m\u001b[1;32m      6\u001b[0m \u001b[0;34m\u001b[0m\u001b[0m\n\u001b[1;32m      7\u001b[0m \u001b[0msource_val_gen\u001b[0m \u001b[0;34m=\u001b[0m \u001b[0mValGenerator\u001b[0m\u001b[0;34m(\u001b[0m\u001b[0;34m\"mouse\"\u001b[0m\u001b[0;34m,\u001b[0m \u001b[0;34m\"CTCF\"\u001b[0m\u001b[0;34m,\u001b[0m \u001b[0mbatchsize\u001b[0m\u001b[0;34m=\u001b[0m\u001b[0;36m10000\u001b[0m\u001b[0;34m)\u001b[0m\u001b[0;34m\u001b[0m\u001b[0;34m\u001b[0m\u001b[0m\n",
      "\u001b[0;31mNameError\u001b[0m: name 'TrainGenerator' is not defined"
     ]
    }
   ],
   "source": [
    "# setup generators / data loaders for training and validation\n",
    "\n",
    "# we'll make the training data loader in the training loop,\n",
    "# since we need to update some of the examples used each epoch\n",
    "train_gen = TrainGenerator(\"mouse\", \"CTCF\")\n",
    "\n",
    "source_val_gen = ValGenerator(\"mouse\", \"CTCF\", batchsize=10000)\n",
    "# using a batch size of 1 here because the generator returns\n",
    "# many examples in each batch\n",
    "source_val_data_loader = DataLoader(source_val_gen, batch_size = 1, shuffle = True)\n",
    "\n",
    "target_val_gen = ValGenerator(\"human\", \"CTCF\", batchsize=10000)\n",
    "target_val_data_loader = DataLoader(target_val_gen, batch_size = 1, shuffle = True)"
   ]
  },
  {
   "cell_type": "markdown",
   "id": "da0a17a1",
   "metadata": {},
   "source": [
    "# Model Training And Evaluation"
   ]
  },
  {
   "cell_type": "code",
   "execution_count": 6,
   "id": "285fd726",
   "metadata": {},
   "outputs": [],
   "source": [
    "class BasicModel(torch.nn.Module):\n",
    "    def __init__(self):\n",
    "        super(BasicModel, self).__init__()\n",
    "        self.input_seq_len = 500\n",
    "        num_conv_filters = 240\n",
    "        lstm_hidden_units = 32\n",
    "        fc_layer1_units = 1024\n",
    "        fc_layer2_units = 512\n",
    "        \n",
    "        \n",
    "        # Defining the layers to go into our model\n",
    "        # (see the forward function for how they fit together)\n",
    "        self.conv = torch.nn.Conv1d(4, num_conv_filters, kernel_size=20, padding=0)\n",
    "        self.relu = torch.nn.ReLU()\n",
    "\n",
    "        # We'll store performance metrics during training in these lists\n",
    "        self.train_loss_by_epoch = []\n",
    "        self.source_val_loss_by_epoch = []\n",
    "        self.source_val_auprc_by_epoch = []\n",
    "        self.target_val_loss_by_epoch = []\n",
    "        self.target_val_auprc_by_epoch = []\n",
    "\n",
    "        # We'll record the best model we've seen yet each epoch\n",
    "        self.best_state_so_far = self.state_dict()\n",
    "        self.best_auprc_so_far = 1\n",
    "\n",
    "        \n",
    "        \n",
    "        ##########\n",
    "        \n",
    "        # Defining the layers to go into our model\n",
    "        # (see the forward function for how they fit together)\n",
    "        self.conv = torch.nn.Conv1d(4, num_conv_filters, kernel_size=20, padding=0)\n",
    "        self.relu = torch.nn.ReLU()\n",
    "        self.maxpool = torch.nn.MaxPool1d(15, stride=15, padding=0)\n",
    "        self.lstm = torch.nn.LSTM(input_size=num_conv_filters,\n",
    "                                  hidden_size=lstm_hidden_units,\n",
    "                                  batch_first=True)\n",
    "        self.fc1 = torch.nn.Linear(in_features=lstm_hidden_units,\n",
    "                                   out_features=fc_layer1_units)\n",
    "        self.dropout = torch.nn.Dropout(p=0.5)\n",
    "        self.fc2 = torch.nn.Linear(in_features=fc_layer1_units,\n",
    "                                   out_features=fc_layer2_units)\n",
    "        self.fc_final = torch.nn.Linear(in_features=fc_layer2_units,\n",
    "                                        out_features=1)\n",
    "        self.sigmoid = torch.nn.Sigmoid()\n",
    "\n",
    "        # The loss function we'll use -- binary cross-entropy\n",
    "        # (this is the standard loss to use for binary classification)\n",
    "        self.loss = self.CORAL_loss()\n",
    "\n",
    "        ##########\n",
    "        \n",
    "        \n",
    "    def forward(self, X):\n",
    "        return (self.conv(X))\n",
    "        \n",
    "    def validation(self, data_loader):\n",
    "        # only run this within torch.no_grad() context!\n",
    "        losses = []\n",
    "        preds = []\n",
    "        labels = []\n",
    "        for seqs_onehot_batch, labels_batch in data_loader:\n",
    "            # push batch through model, get predictions, calculate loss\n",
    "            preds_batch = self(seqs_onehot_batch.squeeze().cuda())\n",
    "            labels_batch = labels_batch.squeeze()\n",
    "            loss_batch = self.loss(preds_batch, labels_batch.cuda())\n",
    "            losses.append(loss_batch.item())\n",
    "\n",
    "            # storing labels + preds for auPRC calculation later\n",
    "            labels.extend(labels_batch.detach().numpy())  \n",
    "            preds.extend(preds_batch.cpu().detach().numpy())\n",
    "            \n",
    "        return np.array(losses), np.array(preds), np.array(labels)\n",
    "\n",
    "    def convolve(self, data_loader):\n",
    "        # only run this within torch.no_grad() context!\n",
    "\n",
    "        # DEBUG\n",
    "        for seqs_onehot_batch, labels_batch in data_loader:\n",
    "            print('seqs_onehot_batch:',seqs_onehot_batch.shape)\n",
    "            print('labels_batch:', labels_batch.shape)\n",
    "            break\n",
    "            \n",
    "        features = []\n",
    "        for seqs_onehot_batch, labels_batch in data_loader:\n",
    "            # push batch through model, get predictions, calculate loss\n",
    "            features_batch = self(seqs_onehot_batch.squeeze().cuda())\n",
    "            print(features_batch.shape)\n",
    "            # storing labels + preds for auPRC calculation later\n",
    "            features.extend(features_batch.cpu().detach().numpy())\n",
    "#             features.extend(features_batch.cpu().detach().numpy())\n",
    "        features_all = np.array(features)\n",
    "        print('features:',features_all.shape)\n",
    "        return features_all # maybe hold off on converting to numpy to run torch.cov on the gpu?\n",
    "    \n",
    "    def loader_to_generator(self, data_loader):\n",
    "        for batch in data_loader:\n",
    "            yield batch\n",
    "    \n",
    "    def get_cov(self, data_loader, nbatch=100):\n",
    "        \"\"\"\n",
    "        seqs_onehot_batch : (1, batchsize, input_seq_len) [1, 1000, 4, 500]\n",
    "        convolved_batch : (batchsize, num_conv_filters, input_seq_len - padding) [1000, 240, 481]\n",
    "        labels_batch : (1, batchsize) [1, 1000]\n",
    "        cov_batch : ()\n",
    "        \"\"\"\n",
    "        covariances = []\n",
    "        generator = self.loader_to_generator(data_loader)\n",
    "        for i in range(nbatch):\n",
    "            seqs_onehot_batch, labels_batch = next(generator)\n",
    "            # push batch through model, get predictions, calculate loss\n",
    "            convolved_batch = self(seqs_onehot_batch.squeeze().cuda())\n",
    "            cov_batch = np.cov(torch.max(convolved_batch, 2).values.T.cpu().detach().numpy())\n",
    "            covariances.append(cov_batch)\n",
    "        print(f'cov of batch {i-nbatch+1} to {i+1}')\n",
    "        return covariances"
   ]
  },
  {
   "cell_type": "code",
   "execution_count": 7,
   "id": "2f23d499",
   "metadata": {},
   "outputs": [
    {
     "name": "stdout",
     "output_type": "stream",
     "text": [
      "Getting covariances for source and target...\n",
      "cov of batch 0 to 100\n",
      "cov of batch 0 to 100\n",
      "cov of batch 0 to 100\n",
      "cov of batch 0 to 100\n"
     ]
    },
    {
     "data": {
      "text/plain": [
       "BasicModel(\n",
       "  (conv): Conv1d(4, 240, kernel_size=(20,), stride=(1,))\n",
       "  (relu): ReLU()\n",
       "  (maxpool): MaxPool1d(kernel_size=15, stride=15, padding=0, dilation=1, ceil_mode=False)\n",
       "  (lstm): LSTM(240, 32, batch_first=True)\n",
       "  (fc1): Linear(in_features=32, out_features=1024, bias=True)\n",
       "  (dropout): Dropout(p=0.5, inplace=False)\n",
       "  (fc2): Linear(in_features=1024, out_features=512, bias=True)\n",
       "  (fc_final): Linear(in_features=512, out_features=1, bias=True)\n",
       "  (sigmoid): Sigmoid()\n",
       "  (loss): BCELoss()\n",
       ")"
      ]
     },
     "execution_count": 7,
     "metadata": {},
     "output_type": "execute_result"
    }
   ],
   "source": [
    "model = BasicModel()\n",
    "model.load_state_dict(torch.load('../models/baseline'))\n",
    "model.cuda()\n",
    "print('Getting covariances for source and target...')\n",
    "src_cov0 = model.get_cov(source_val_data_loader)\n",
    "src_cov1 = model.get_cov(source_val_data_loader)\n",
    "tgt_cov0 = model.get_cov(target_val_data_loader)\n",
    "tgt_cov1 = model.get_cov(target_val_data_loader)\n",
    "model.cpu()\n"
   ]
  },
  {
   "cell_type": "code",
   "execution_count": 9,
   "id": "55430fe4",
   "metadata": {},
   "outputs": [
    {
     "data": {
      "text/plain": [
       "100"
      ]
     },
     "execution_count": 9,
     "metadata": {},
     "output_type": "execute_result"
    }
   ],
   "source": [
    "norm_diff = lambda A, B: [np.linalg.norm(a - b) for (a,b) in zip(A,B)]\n",
    "\n",
    "mm = norm_diff(src_cov0, src_cov1)\n",
    "hm = norm_diff(src_cov0, tgt_cov0)\n",
    "hh = norm_diff(tgt_cov0, tgt_cov1)\n",
    "same = norm_diff(tgt_cov0, tgt_cov0)\n",
    "len(tgt_cov1)"
   ]
  },
  {
   "cell_type": "code",
   "execution_count": 10,
   "id": "16a4b77a",
   "metadata": {},
   "outputs": [
    {
     "data": {
      "image/png": "[encoded data removed]",
      "text/plain": [
       "<Figure size 432x288 with 1 Axes>"
      ]
     },
     "metadata": {
      "needs_background": "light"
     },
     "output_type": "display_data"
    }
   ],
   "source": [
    "plt.hist(hm, bins=20)\n",
    "plt.title('Frobenius norm of cov(human) - cov(mouse)')\n",
    "plt.xlabel('Frobenius norm')\n",
    "plt.ylabel('# batches')\n",
    "plt.savefig('cov-hm.jpg')"
   ]
  },
  {
   "cell_type": "code",
   "execution_count": 11,
   "id": "5d611754",
   "metadata": {},
   "outputs": [
    {
     "data": {
      "image/png": "[encoded data removed]",
      "text/plain": [
       "<Figure size 432x288 with 1 Axes>"
      ]
     },
     "metadata": {
      "needs_background": "light"
     },
     "output_type": "display_data"
    }
   ],
   "source": [
    "plt.hist(mm, bins=20)\n",
    "plt.title('Frobenius norm of cov(mouse) - cov(mouse)')\n",
    "plt.xlabel('Frobenius norm')\n",
    "plt.ylabel('# batches')\n",
    "plt.savefig('cov-mm.jpg')"
   ]
  },
  {
   "cell_type": "code",
   "execution_count": 12,
   "id": "f19370f6",
   "metadata": {},
   "outputs": [
    {
     "data": {
      "image/png": "[encoded data removed]",
      "text/plain": [
       "<Figure size 432x288 with 1 Axes>"
      ]
     },
     "metadata": {
      "needs_background": "light"
     },
     "output_type": "display_data"
    }
   ],
   "source": [
    "plt.hist(hh, bins=20)\n",
    "plt.title('Frobenius norm of cov(human) - cov(human)')\n",
    "plt.xlabel('Frobenius norm')\n",
    "plt.ylabel('# batches')\n",
    "plt.savefig('cov-hh.jpg')"
   ]
  },
  {
   "cell_type": "code",
   "execution_count": 13,
   "id": "62a906f7",
   "metadata": {},
   "outputs": [
    {
     "data": {
      "text/plain": [
       "(array([  0.,   0.,   0.,   0.,   0.,   0.,   0.,   0.,   0.,   0., 100.,\n",
       "          0.,   0.,   0.,   0.,   0.,   0.,   0.,   0.,   0.]),\n",
       " array([-0.5 , -0.45, -0.4 , -0.35, -0.3 , -0.25, -0.2 , -0.15, -0.1 ,\n",
       "        -0.05,  0.  ,  0.05,  0.1 ,  0.15,  0.2 ,  0.25,  0.3 ,  0.35,\n",
       "         0.4 ,  0.45,  0.5 ]),\n",
       " <BarContainer object of 20 artists>)"
      ]
     },
     "execution_count": 13,
     "metadata": {},
     "output_type": "execute_result"
    },
    {
     "data": {
      "image/png": "[encoded data removed]",
      "text/plain": [
       "<Figure size 432x288 with 1 Axes>"
      ]
     },
     "metadata": {
      "needs_background": "light"
     },
     "output_type": "display_data"
    }
   ],
   "source": [
    "plt.hist(same, bins=20)"
   ]
  },
  {
   "cell_type": "code",
   "execution_count": 14,
   "id": "1498b874",
   "metadata": {},
   "outputs": [
    {
     "name": "stdout",
     "output_type": "stream",
     "text": [
      "human-human ~ N(0.1224, 0.0054^2)\n",
      "human-mouse ~ N(0.1822, 0.0157^2)\n",
      "mouse-mouse ~ N(0.1163, 0.0034^2)\n"
     ]
    }
   ],
   "source": [
    "print(f'human-human ~ N({round(np.mean(hh),4)}, {round(np.std(hh),4)}^2)')\n",
    "print(f'human-mouse ~ N({round(np.mean(hm),4)}, {round(np.std(hm),4)}^2)')\n",
    "print(f'mouse-mouse ~ N({round(np.mean(mm),4)}, {round(np.std(mm),4)}^2)')"
   ]
  },
  {
   "cell_type": "code",
   "execution_count": null,
   "id": "45676821",
   "metadata": {},
   "outputs": [],
   "source": []
  },
  {
   "cell_type": "code",
   "execution_count": null,
   "id": "f9a2e82c",
   "metadata": {},
   "outputs": [],
   "source": []
  }
 ],
 "metadata": {
  "kernelspec": {
   "display_name": "Python [conda env:cs197-env] *",
   "language": "python",
   "name": "conda-env-cs197-env-py"
  },
  "language_info": {
   "codemirror_mode": {
    "name": "ipython",
    "version": 3
   },
   "file_extension": ".py",
   "mimetype": "text/x-python",
   "name": "python",
   "nbconvert_exporter": "python",
   "pygments_lexer": "ipython3",
   "version": "3.7.10"
  }
 },
 "nbformat": 4,
 "nbformat_minor": 5
}
