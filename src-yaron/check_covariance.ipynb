{
 "cells": [
  {
   "cell_type": "markdown",
   "id": "de53cd8a",
   "metadata": {},
   "source": [
    "# Imports"
   ]
  },
  {
   "cell_type": "code",
   "execution_count": 1,
   "id": "fb1ed6f1",
   "metadata": {
    "scrolled": true
   },
   "outputs": [
    {
     "data": {
      "text/plain": [
       "'1.8.1'"
      ]
     },
     "execution_count": 1,
     "metadata": {},
     "output_type": "execute_result"
    }
   ],
   "source": [
    "import os\n",
    "os.environ[\"CUDA_VISIBLE_DEVICES\"] = \"3\"  # either 3 or 6\n",
    "\n",
    "from data_generators import *\n",
    "import utils\n",
    "import torch\n",
    "from torch.utils.data import DataLoader\n",
    "import matplotlib.pyplot as plt\n",
    "\n",
    "torch.__version__"
   ]
  },
  {
   "cell_type": "code",
   "execution_count": 2,
   "id": "ed3a88d7",
   "metadata": {},
   "outputs": [
    {
     "name": "stdout",
     "output_type": "stream",
     "text": [
      "1365\n"
     ]
    }
   ],
   "source": [
    "# setup generators / data loaders for training and validation\n",
    "\n",
    "# we'll make the training data loader in the training loop,\n",
    "# since we need to update some of the examples used each epoch\n",
    "train_gen = TrainGenerator(\"mouse\", \"CTCF\")\n",
    "\n",
    "source_val_gen = ValGenerator(\"mouse\", \"CTCF\")\n",
    "# using a batch size of 1 here because the generator returns\n",
    "# many examples in each batch\n",
    "source_val_data_loader = DataLoader(source_val_gen, batch_size = 1, shuffle = True)\n",
    "\n",
    "target_val_gen = ValGenerator(\"human\", \"CTCF\")\n",
    "target_val_data_loader = DataLoader(target_val_gen, batch_size = 1, shuffle = True)"
   ]
  },
  {
   "cell_type": "markdown",
   "id": "da0a17a1",
   "metadata": {},
   "source": [
    "# Model Training And Evaluation"
   ]
  },
  {
   "cell_type": "code",
   "execution_count": 3,
   "id": "285fd726",
   "metadata": {},
   "outputs": [],
   "source": [
    "class BasicModel(torch.nn.Module):\n",
    "    def __init__(self):\n",
    "        super(BasicModel, self).__init__()\n",
    "        self.input_seq_len = 500\n",
    "        num_conv_filters = 240\n",
    "        lstm_hidden_units = 32\n",
    "        fc_layer1_units = 1024\n",
    "        fc_layer2_units = 512\n",
    "        \n",
    "        # Defining the layers to go into our model\n",
    "        # (see the forward function for how they fit together)\n",
    "        self.conv = torch.nn.Conv1d(4, num_conv_filters, kernel_size=20, padding=0)\n",
    "        self.relu = torch.nn.ReLU()\n",
    "\n",
    "        # We'll store performance metrics during training in these lists\n",
    "        self.train_loss_by_epoch = []\n",
    "        self.source_val_loss_by_epoch = []\n",
    "        self.source_val_auprc_by_epoch = []\n",
    "        self.target_val_loss_by_epoch = []\n",
    "        self.target_val_auprc_by_epoch = []\n",
    "\n",
    "        # We'll record the best model we've seen yet each epoch\n",
    "        self.best_state_so_far = self.state_dict()\n",
    "        self.best_auprc_so_far = 1\n",
    "\n",
    "    def forward(self, X):\n",
    "        return (self.conv(X))\n",
    "        \n",
    "    def validation(self, data_loader):\n",
    "        # only run this within torch.no_grad() context!\n",
    "        losses = []\n",
    "        preds = []\n",
    "        labels = []\n",
    "        for seqs_onehot_batch, labels_batch in data_loader:\n",
    "            # push batch through model, get predictions, calculate loss\n",
    "            preds_batch = self(seqs_onehot_batch.squeeze().cuda())\n",
    "            labels_batch = labels_batch.squeeze()\n",
    "            loss_batch = self.loss(preds_batch, labels_batch.cuda())\n",
    "            losses.append(loss_batch.item())\n",
    "\n",
    "            # storing labels + preds for auPRC calculation later\n",
    "            labels.extend(labels_batch.detach().numpy())  \n",
    "            preds.extend(preds_batch.cpu().detach().numpy())\n",
    "            \n",
    "        return np.array(losses), np.array(preds), np.array(labels)\n",
    "\n",
    "    def convolve(self, data_loader):\n",
    "        # only run this within torch.no_grad() context!\n",
    "\n",
    "        # DEBUG\n",
    "        for seqs_onehot_batch, labels_batch in data_loader:\n",
    "            print('seqs_onehot_batch:',seqs_onehot_batch.shape)\n",
    "            print('labels_batch:', labels_batch.shape)\n",
    "            break\n",
    "            \n",
    "        features = []\n",
    "        for seqs_onehot_batch, labels_batch in data_loader:\n",
    "            # push batch through model, get predictions, calculate loss\n",
    "            features_batch = self(seqs_onehot_batch.squeeze().cuda())\n",
    "            print(features_batch.shape)\n",
    "            # storing labels + preds for auPRC calculation later\n",
    "            features.extend(features_batch.cpu().detach().numpy())\n",
    "#             features.extend(features_batch.cpu().detach().numpy())\n",
    "        features_all = np.array(features)\n",
    "        print('features:',features_all.shape)\n",
    "        return features_all # maybe hold off on converting to numpy to run torch.cov on the gpu?\n",
    "    \n",
    "    def loader_to_generator(self, data_loader):\n",
    "        for batch in data_loader:\n",
    "            yield batch\n",
    "    \n",
    "    def get_cov(self, data_loader, nbatch=100):\n",
    "        \"\"\"\n",
    "        seqs_onehot_batch : (1, batchsize, input_seq_len) [1, 1000, 4, 500]\n",
    "        convolved_batch : (batchsize, num_conv_filters, input_seq_len - padding) [1000, 240, 481]\n",
    "        labels_batch : (1, batchsize) [1, 1000]\n",
    "        cov_batch : ()\n",
    "        \"\"\"\n",
    "        covariances = []\n",
    "        generator = self.loader_to_generator(data_loader)\n",
    "        for i in range(nbatch):\n",
    "            seqs_onehot_batch, labels_batch = next(generator)\n",
    "            # push batch through model, get predictions, calculate loss\n",
    "            convolved_batch = self(seqs_onehot_batch.squeeze().cuda())\n",
    "            cov_batch = np.cov(torch.max(convolved_batch, 2).values.T.cpu().detach().numpy())\n",
    "            covariances.append(cov_batch)\n",
    "        print(f'cov of batch {i-nbatch+1} to {i+1}')\n",
    "        return covariances"
   ]
  },
  {
   "cell_type": "code",
   "execution_count": 4,
   "id": "2f23d499",
   "metadata": {},
   "outputs": [
    {
     "name": "stdout",
     "output_type": "stream",
     "text": [
      "Getting covariances for source and target...\n",
      "cov of batch 0 to 100\n",
      "cov of batch 0 to 100\n",
      "cov of batch 0 to 100\n",
      "cov of batch 0 to 100\n"
     ]
    },
    {
     "data": {
      "text/plain": [
       "BasicModel(\n",
       "  (conv): Conv1d(4, 240, kernel_size=(20,), stride=(1,))\n",
       "  (relu): ReLU()\n",
       ")"
      ]
     },
     "execution_count": 4,
     "metadata": {},
     "output_type": "execute_result"
    }
   ],
   "source": [
    "model = BasicModel()\n",
    "model.cuda()\n",
    "print('Getting covariances for source and target...')\n",
    "src_cov0 = model.get_cov(source_val_data_loader)\n",
    "src_cov1 = model.get_cov(source_val_data_loader)\n",
    "tgt_cov0 = model.get_cov(target_val_data_loader)\n",
    "tgt_cov1 = model.get_cov(target_val_data_loader)\n",
    "model.cpu()\n"
   ]
  },
  {
   "cell_type": "code",
   "execution_count": 6,
   "id": "55430fe4",
   "metadata": {
    "scrolled": true
   },
   "outputs": [
    {
     "data": {
      "text/plain": [
       "100"
      ]
     },
     "execution_count": 6,
     "metadata": {},
     "output_type": "execute_result"
    }
   ],
   "source": [
    "norm_diff = lambda A, B: [np.linalg.norm(a - b) for (a,b) in zip(A,B)]\n",
    "\n",
    "mm = norm_diff(src_cov0, src_cov1)\n",
    "# print(mm)\n",
    "hm = norm_diff(src_cov0, tgt_cov0)\n",
    "hh = norm_diff(tgt_cov0, tgt_cov1)\n",
    "same = norm_diff(tgt_cov0, tgt_cov0)\n",
    "len(tgt_cov1)"
   ]
  },
  {
   "cell_type": "code",
   "execution_count": 7,
   "id": "a51ed183",
   "metadata": {},
   "outputs": [],
   "source": [
    "def get_conv_filters(first, second):\n",
    "#     src_cov0, tgt_cov0\n",
    "#     src_cov1, tgt_cov1 (2nd batch)\n",
    "    norm_diff = lambda A, B: [np.abs(a - b) for (a,b) in zip(A,B)]\n",
    "    a = norm_diff(first, second)\n",
    "#     print(a)\n",
    "    mxm = a[0][0][0]\n",
    "    sol = []\n",
    "    for x in a:\n",
    "        r = 0\n",
    "        for y in x:\n",
    "            r += 1\n",
    "            c = 0\n",
    "            for z in y:\n",
    "                c += 1\n",
    "                if z > mxm and c != r:\n",
    "                    print(z, r, c)\n",
    "                    mxm = z\n",
    "                    current = [r, c]\n",
    "        sol.append(current)\n",
    "    return sol\n",
    "#         print(x, x.shape)\n",
    "#         y = max(x)\n",
    "#         print('y', y)\n",
    "#         [b, c] = find(x==y)\n",
    "#         print(b)\n",
    "#     for argmax(norm_diff)\n",
    "    "
   ]
  },
  {
   "cell_type": "code",
   "execution_count": 8,
   "id": "52e889fb",
   "metadata": {},
   "outputs": [
    {
     "name": "stdout",
     "output_type": "stream",
     "text": [
      "0.0010614227978413627 1 8\n",
      "0.0012787100967042845 1 134\n",
      "0.001473694730517875 5 115\n",
      "0.0019333227528645562 6 40\n",
      "0.0020820605894279766 23 237\n",
      "0.0025105248692933765 78 170\n",
      "0.002819291001709281 78 237\n",
      "0.002994904467489385 115 237\n",
      "0.00362380436673034 170 229\n",
      "0.0036914136278066887 170 229\n",
      "0.00409084866164753 170 237\n",
      "0.004348053816750737 170 229\n",
      "0.004458256049004624 170 229\n",
      "0.004481234460351122 170 229\n",
      "0.004723527660906041 170 237\n",
      "0.004803111776171495 170 229\n",
      "0.005136398360022255 170 229\n",
      "0.005161311754171217 170 229\n",
      "[[78, 237], [170, 229], [170, 229], [170, 229], [170, 237], [170, 237], [170, 229], [170, 229], [170, 229], [170, 229], [170, 229], [170, 229], [170, 229], [170, 229], [170, 229], [170, 237], [170, 237], [170, 237], [170, 237], [170, 237], [170, 237], [170, 237], [170, 237], [170, 229], [170, 229], [170, 229], [170, 229], [170, 229], [170, 229], [170, 229], [170, 229], [170, 229], [170, 229], [170, 229], [170, 229], [170, 229], [170, 229], [170, 229], [170, 229], [170, 229], [170, 229], [170, 229], [170, 229], [170, 229], [170, 229], [170, 229], [170, 229], [170, 229], [170, 229], [170, 229], [170, 229], [170, 229], [170, 229], [170, 229], [170, 229], [170, 229], [170, 229], [170, 229], [170, 229], [170, 229], [170, 229], [170, 229], [170, 229], [170, 229], [170, 229], [170, 229], [170, 229], [170, 229], [170, 229], [170, 229], [170, 229], [170, 229], [170, 229], [170, 229], [170, 229], [170, 229], [170, 229], [170, 229], [170, 229], [170, 229], [170, 229], [170, 229], [170, 229], [170, 229], [170, 229], [170, 229], [170, 229], [170, 229], [170, 229], [170, 229], [170, 229], [170, 229], [170, 229], [170, 229], [170, 229], [170, 229], [170, 229], [170, 229], [170, 229], [170, 229]]\n"
     ]
    }
   ],
   "source": [
    "print(get_conv_filters(src_cov0, tgt_cov0))"
   ]
  },
  {
   "cell_type": "code",
   "execution_count": 9,
   "id": "16a4b77a",
   "metadata": {},
   "outputs": [
    {
     "data": {
      "text/plain": [
       "(array([ 1.,  6.,  1.,  6.,  8., 10., 15., 11., 11.,  7.,  1., 13.,  3.,\n",
       "         2.,  2.,  2.,  0.,  0.,  0.,  1.]),\n",
       " array([0.09313191, 0.09389735, 0.09466278, 0.09542822, 0.09619366,\n",
       "        0.09695909, 0.09772453, 0.09848997, 0.0992554 , 0.10002084,\n",
       "        0.10078628, 0.10155172, 0.10231715, 0.10308259, 0.10384803,\n",
       "        0.10461346, 0.1053789 , 0.10614434, 0.10690977, 0.10767521,\n",
       "        0.10844065]),\n",
       " <BarContainer object of 20 artists>)"
      ]
     },
     "execution_count": 9,
     "metadata": {},
     "output_type": "execute_result"
    },
    {
     "data": {
      "image/png": "[encoded data removed]",
      "text/plain": [
       "<Figure size 432x288 with 1 Axes>"
      ]
     },
     "metadata": {
      "needs_background": "light"
     },
     "output_type": "display_data"
    }
   ],
   "source": [
    "plt.hist(hm, bins=20)"
   ]
  },
  {
   "cell_type": "code",
   "execution_count": null,
   "id": "5d611754",
   "metadata": {},
   "outputs": [],
   "source": [
    "plt.hist(mm, bins=20)"
   ]
  },
  {
   "cell_type": "code",
   "execution_count": null,
   "id": "f19370f6",
   "metadata": {},
   "outputs": [],
   "source": [
    "plt.hist(hh, bins=20)"
   ]
  },
  {
   "cell_type": "code",
   "execution_count": null,
   "id": "62a906f7",
   "metadata": {},
   "outputs": [],
   "source": [
    "plt.hist(same, bins=20)"
   ]
  },
  {
   "cell_type": "code",
   "execution_count": null,
   "id": "1498b874",
   "metadata": {},
   "outputs": [],
   "source": [
    "print(f'human-human ~ N({np.mean(hh)}, {np.std(hh)}^2)')\n",
    "print(f'human-mouse ~ N({np.mean(hm)}, {np.std(hm)}^2)')\n",
    "print(f'mouse-mouse ~ N({np.mean(mm)}, {np.std(mm)}^2)')"
   ]
  }
 ],
 "metadata": {
  "kernelspec": {
   "display_name": "Python [conda env:cs197-env] *",
   "language": "python",
   "name": "conda-env-cs197-env-py"
  },
  "language_info": {
   "codemirror_mode": {
    "name": "ipython",
    "version": 3
   },
   "file_extension": ".py",
   "mimetype": "text/x-python",
   "name": "python",
   "nbconvert_exporter": "python",
   "pygments_lexer": "ipython3",
   "version": "3.7.10"
  }
 },
 "nbformat": 4,
 "nbformat_minor": 5
}
